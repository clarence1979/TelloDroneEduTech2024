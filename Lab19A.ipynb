{
 "cells": [
  {
   "cell_type": "markdown",
   "metadata": {},
   "source": [
    "# Lab 19A - Making the GUI code do something\n",
    "\n",
    "In the last lesson, you created a GUI using Python. Now let's add some code for the controls (so that they do something). This is accomplished using 'def', where every control drawn on the screen, will relate to a certain def."
   ]
  },
  {
   "cell_type": "code",
   "execution_count": null,
   "metadata": {},
   "outputs": [],
   "source": [
    "#This example shows the usage of Labels and Buttons in a GUI\n",
    "#Example 1\n",
    "from tkinter import *\n",
    "\n",
    "def Call():\n",
    "    msg=Label(window, text=\"Hello Python\", fg='red', font=(\"Helvetica\", 16))\n",
    "    msg.place(x=30, y=50)\n",
    "    button[\"bg\"] = \"blue\"#bg is background\n",
    "    button[\"fg\"]=\"white\"#fg is foreground\n",
    "\n",
    "window=Tk()\n",
    "window.geometry(\"200x110\")\n",
    "button=Button(text=\"Click\", command=Call) #this one calls up the def 'Call' when it is clicked\n",
    "button.place(x=30, y=20, width=120, height=25)\n",
    "\n",
    "window.mainloop() "
   ]
  },
  {
   "cell_type": "markdown",
   "metadata": {},
   "source": [
    "Run the program above and describe the interaction shown:"
   ]
  },
  {
   "cell_type": "markdown",
   "metadata": {},
   "source": []
  },
  {
   "cell_type": "code",
   "execution_count": null,
   "metadata": {},
   "outputs": [],
   "source": [
    "#This example shows an extry using textboxes (String Entry converted to become int) in a GUI. This program simply adds 2 numbers together.\n",
    "#Example 2\n",
    "from tkinter import *\n",
    "def click():\n",
    "    name=textbox1.get()\n",
    "    message=str(\"Hello\" + name)\n",
    "    textbox2[\"bg\"]=\"yellow\"\n",
    "    textbox2[\"fg\"]=\"blue\"\n",
    "    textbox2[\"text\"]=message\n",
    "    label3=Label(text=int(textbox1.get())+int(textbox2.get()))\n",
    "    label3.place(x=280, y=100)\n",
    "\n",
    "window=Tk()\n",
    "window.geometry(\"500x200\")\n",
    "\n",
    "label1=Label(text=\"Enter first number:\")\n",
    "label1.place(x=30, y=15)\n",
    "\n",
    "label2=Label(text=\"Enter second number:\")\n",
    "label2.place(x=30, y=60)\n",
    "\n",
    "\n",
    "\n",
    "textbox1=Entry(text=\"\")\n",
    "textbox1.place(x=200, y=20, width=200, height=25)\n",
    "textbox1[\"justify\"]=\"center\"\n",
    "textbox1.focus()\n",
    "\n",
    "textbox2=Entry(text=\"\")\n",
    "textbox2.place(x=200, y=60, width=200, height=25)\n",
    "textbox2[\"justify\"]=\"center\"\n",
    "textbox2.focus()\n",
    "\n",
    "button1=Button(text=\"Press me\", command=click) #This will call up the deaf called 'click' when is is clicked.\n",
    "button1.place(x=150, y=100, width=120, height=25)\n",
    "\n",
    "\n",
    "\n",
    "window.mainloop()"
   ]
  },
  {
   "cell_type": "markdown",
   "metadata": {},
   "source": [
    "Copy the code above into the section below, then write comments for each line using the hash (#) notation."
   ]
  },
  {
   "cell_type": "code",
   "execution_count": null,
   "metadata": {},
   "outputs": [],
   "source": []
  },
  {
   "cell_type": "markdown",
   "metadata": {},
   "source": [
    "Describe what the program above does:"
   ]
  },
  {
   "cell_type": "markdown",
   "metadata": {},
   "source": []
  },
  {
   "cell_type": "code",
   "execution_count": null,
   "metadata": {},
   "outputs": [],
   "source": [
    "#This program shows an example basic code from Lab 17\n",
    "#This code can only be run on the Pi 400, connected to a drone's SSID. It cannot be run here.\n",
    "\n",
    "#Example 3\n",
    "import cv2\n",
    "from djitellopy import Tello\n",
    "tello = Tello()\n",
    "tello.connect()\n",
    "tello.streamon()\n",
    "frame_read = tello.get_frame_read()\n",
    "tello.takeoff()\n",
    "\n",
    "tello.move_up(100) #valid numbers 20-500\n",
    "tello.move_right(100) #valid numbers 20-500\n",
    "tello.move_left(100) #valid numbers 20-500\n",
    "tello.move_forward(100) #valid numbers 20-500\n",
    "tello.move_back(100) #valid numbers 20-500\n",
    "tello.move_down(100) #valid numbers 20-500\n",
    "\n",
    "print(tello.get_battery()) #Gets the battery percentage from 0-100\n",
    "\n",
    "cv2.imwrite(\"picture.png\", frame_read.frame)\n",
    "tello.land()\n",
    "time.sleep(3) #stays in previous state for 3 seconds)\n",
    "\n"
   ]
  },
  {
   "cell_type": "markdown",
   "metadata": {},
   "source": [
    "# Exercise (Lab 19A)\n",
    "\n",
    "Using the examples above, create an interface for your drone. Ensure your buttons work to control your drone. Run your code in Pi 400, connected to the drone, and ensure it works prior to pasting your answers below."
   ]
  },
  {
   "cell_type": "code",
   "execution_count": null,
   "metadata": {},
   "outputs": [],
   "source": []
  }
 ],
 "metadata": {
  "kernelspec": {
   "display_name": "Python 3",
   "language": "python",
   "name": "python3"
  },
  "language_info": {
   "codemirror_mode": {
    "name": "ipython",
    "version": 3
   },
   "file_extension": ".py",
   "mimetype": "text/x-python",
   "name": "python",
   "nbconvert_exporter": "python",
   "pygments_lexer": "ipython3",
   "version": "3.12.6"
  }
 },
 "nbformat": 4,
 "nbformat_minor": 2
}
